{
 "cells": [
  {
   "cell_type": "code",
   "execution_count": 7,
   "id": "729cbb64-5eb9-436e-85e1-5a1b4130f1f6",
   "metadata": {},
   "outputs": [
    {
     "name": "stdout",
     "output_type": "stream",
     "text": [
      "Welcome to Famous Restaurant!\n"
     ]
    },
    {
     "name": "stdin",
     "output_type": "stream",
     "text": [
      "Enter username:  nani\n",
      "Enter password:  1234\n"
     ]
    },
    {
     "name": "stdout",
     "output_type": "stream",
     "text": [
      "Login successful!\n",
      "Welcome to Famous Restaurant!\n",
      "Please sit down.\n",
      "Call the waiter.\n"
     ]
    },
    {
     "name": "stdin",
     "output_type": "stream",
     "text": [
      "What would you like to order? (1 for Breakfast, 2 for Lunch, 3 for Dinner):  2\n"
     ]
    },
    {
     "name": "stdout",
     "output_type": "stream",
     "text": [
      "Selected option: 2\n",
      "Lunch Menu\n",
      "1. Veg Meals\n",
      "2. Non-Veg Meals\n"
     ]
    },
    {
     "name": "stdin",
     "output_type": "stream",
     "text": [
      "Enter your choice (1 for Veg Meals, 2 for Non-Veg Meals):  2\n"
     ]
    },
    {
     "name": "stdout",
     "output_type": "stream",
     "text": [
      "Selected lunch choice: 2\n",
      "Non-Veg meals menu\n",
      "1. Chicken Biryani\n",
      "2. Mutton Biryani\n",
      "3. Fish Curry\n",
      "4. Chicken Fry\n"
     ]
    },
    {
     "name": "stdin",
     "output_type": "stream",
     "text": [
      "Enter your choice:  2\n"
     ]
    },
    {
     "name": "stdout",
     "output_type": "stream",
     "text": [
      "Selected non-veg item: 2\n"
     ]
    },
    {
     "name": "stdin",
     "output_type": "stream",
     "text": [
      "How many plates would you like?  4\n"
     ]
    },
    {
     "name": "stdout",
     "output_type": "stream",
     "text": [
      "Your total bill for Non-Veg Meals is: 600\n",
      "Bill 600 paid.\n"
     ]
    }
   ],
   "source": [
    "# Function to handle user login\n",
    "def login():\n",
    "    print(\"Welcome to Famous Restaurant!\")\n",
    "    username = input(\"Enter username: \")\n",
    "    password = input(\"Enter password: \")\n",
    "\n",
    "    correct_username = \"nani\"\n",
    "    correct_password = \"1234\"\n",
    "\n",
    "    if username == correct_username and password == correct_password:\n",
    "        print(\"Login successful!\")\n",
    "        return True\n",
    "    else:\n",
    "        print(\"Invalid credentials. Please try again.\")\n",
    "        print(\"please take subscription\")\n",
    "        return False\n",
    "\n",
    "# Main restaurant function\n",
    "def famous_restaurant():\n",
    "    if login():\n",
    "        print(\"Welcome to Famous Restaurant!\")\n",
    "        print(\"Please sit down.\")\n",
    "        print(\"Call the waiter.\")\n",
    "\n",
    "        Breakfast = 1\n",
    "        lunch = 2\n",
    "        dinner = 3\n",
    "\n",
    "        iwant = int(input(\"What would you like to order? (1 for Breakfast, 2 for Lunch, 3 for Dinner): \"))\n",
    "        print(f\"Selected option: {iwant}\")  \n",
    "\n",
    "        # Breakfast menu\n",
    "        if Breakfast == iwant:\n",
    "            print(\"Breakfast menu\")\n",
    "            print(\"1.0 Idly\")\n",
    "            print(\"2. Dosa\")\n",
    "            print(\"3. Upma\")\n",
    "\n",
    "            idly = 1.0\n",
    "            dosa = 1.1\n",
    "            upma = 1.2\n",
    "            bmenu = float(input(\"Enter your choice (1 for Idly, 2 for Dosa, 3 for Upma): \"))\n",
    "            print(f\"Selected breakfast item: {bmenu}\")  \n",
    "\n",
    "            available = True  \n",
    "\n",
    "            if idly == bmenu:\n",
    "                if available:\n",
    "                    plate = int(input(\"How many plates of Idly would you like? \"))\n",
    "                    print(\"Please wait for 5 minutes.\")\n",
    "                    print(\"The waiter has brought the food.\")\n",
    "                    print(\"After eating, you can get the bill.\")\n",
    "                    bill = plate * 50 \n",
    "                    bill_ = True \n",
    "                    if bill_:\n",
    "                        print(f\"Bill {bill} paid\")\n",
    "                    else:\n",
    "                        print(\"Bill not paid.\")\n",
    "                else:\n",
    "                    print(\"Sorry, Idly is not available.\")\n",
    "            \n",
    "            elif dosa == bmenu:\n",
    "                if available:\n",
    "                    plate = int(input(\"How many plates of Dosa would you like? \"))\n",
    "                    print(\"Please wait for 5 minutes.\")\n",
    "                    print(\"The waiter has brought the food.\")\n",
    "                    print(\"After eating, you can get the bill.\")\n",
    "                    bill = plate * 50\n",
    "                    bill_ = True\n",
    "                    if bill_:\n",
    "                        print(f\"Bill {bill} paid\")\n",
    "                    else:\n",
    "                        print(\"Bill not paid.\")\n",
    "                else:\n",
    "                    print(\"Sorry, Dosa is not available.\")\n",
    "            \n",
    "            elif upma == bmenu:\n",
    "                if available:\n",
    "                    plate = int(input(\"How many plates of Upma would you like? \"))\n",
    "                    print(\"Please wait for 5 minutes.\")\n",
    "                    print(\"The waiter has brought the food.\")\n",
    "                    print(\"After eating, you can get the bill.\")\n",
    "                    bill = plate * 50\n",
    "                    bill_ = True\n",
    "                    if bill_:\n",
    "                        print(f\"Bill {bill} paid\")\n",
    "                    else:\n",
    "                        print(\"Bill not paid.\")\n",
    "                else:\n",
    "                    print(\"Sorry, Upma is not available.\")\n",
    "            \n",
    "            else:\n",
    "                print(\"Invalid choice or time is over.\")\n",
    "\n",
    "        # Lunch menu\n",
    "        elif lunch == iwant:\n",
    "            print(\"Lunch Menu\")\n",
    "            print(\"1. Veg Meals\")\n",
    "            print(\"2. Non-Veg Meals\")\n",
    "\n",
    "            veg_meal = 1\n",
    "            nonveg = 2\n",
    "            Veg_meals = int(input(\"Enter your choice (1 for Veg Meals, 2 for Non-Veg Meals): \"))\n",
    "            print(f\"Selected lunch choice: {Veg_meals}\")  # Debugging line\n",
    "\n",
    "            if Veg_meals == veg_meal:\n",
    "                print(\"Veg meals menu\")\n",
    "                print(\"1. Avakaya Pappu\")\n",
    "                print(\"2. Veg Talli\")\n",
    "                print(\"3. Paneer Biryani\")\n",
    "                print(\"4. Mushroom Biryani\")\n",
    "\n",
    "                lunch_list = int(input(\"Enter your choice: \"))\n",
    "                print(f\"Selected veg item: {lunch_list}\")  \n",
    "\n",
    "                if lunch_list in [1, 2, 3, 4]:\n",
    "                    plate = int(input(\"How many plates would you like? \"))\n",
    "                    bill = plate * 100  \n",
    "                    print(f\"Your total bill for Veg Meals is: {bill}\")\n",
    "                    bill_ = True\n",
    "                    if bill_:\n",
    "                        print(f\"Bill {bill} paid.\")\n",
    "                    else:\n",
    "                        print(\"Bill not paid.\")\n",
    "                else:\n",
    "                    print(\"Invalid choice.\")\n",
    "\n",
    "            elif Veg_meals == nonveg:\n",
    "                print(\"Non-Veg meals menu\")\n",
    "                print(\"1. Chicken Biryani\")\n",
    "                print(\"2. Mutton Biryani\")\n",
    "                print(\"3. Fish Curry\")\n",
    "                print(\"4. Chicken Fry\")\n",
    "\n",
    "                nonveg_list = int(input(\"Enter your choice: \"))\n",
    "                print(f\"Selected non-veg item: {nonveg_list}\") \n",
    "\n",
    "                if nonveg_list in [1, 2, 3, 4]:\n",
    "                    plate = int(input(\"How many plates would you like? \"))\n",
    "                    bill = plate * 150  \n",
    "                    print(f\"Your total bill for Non-Veg Meals is: {bill}\")\n",
    "                    bill_ = True\n",
    "                    if bill_:\n",
    "                        print(f\"Bill {bill} paid.\")\n",
    "                    else:\n",
    "                        print(\"Bill not paid.\")\n",
    "                else:\n",
    "                    print(\"Invalid choice.\")\n",
    "\n",
    "            else:\n",
    "                print(\"Invalid meal choice.\")\n",
    "\n",
    "        # Dinner menu\n",
    "        elif dinner == iwant:\n",
    "            print(\"Dinner Menu:\")\n",
    "            print(\"1. Butter Chicken\")\n",
    "            print(\"2. Dal Tadka\")\n",
    "            print(\"3. Chicken Masala\")\n",
    "            print(\"4. Paneer Butter Masala\")\n",
    "\n",
    "            dinner_meal = int(input(\"Enter your choice (1 for Butter Chicken, 2 for Dal Tadka, 3 for Chicken Masala, 4 for Paneer Butter Masala): \"))\n",
    "            print(f\"Selected dinner item: {dinner_meal}\")  \n",
    "\n",
    "            if dinner_meal in [1, 2, 3, 4]:\n",
    "                plate = int(input(\"How many plates would you like? \"))\n",
    "                if dinner_meal == 1:\n",
    "                    bill = plate * 200  \n",
    "                elif dinner_meal == 2:\n",
    "                    bill = plate * 150  \n",
    "                elif dinner_meal == 3:\n",
    "                    bill = plate * 180  \n",
    "                elif dinner_meal == 4:\n",
    "                    bill = plate * 170  0\n",
    "\n",
    "                print(f\"Your total bill for Dinner is: {bill}\")\n",
    "                bill_ = True\n",
    "                if bill_:\n",
    "                    print(f\"Bill {bill} paid.\")\n",
    "                else:\n",
    "                    print(\"Bill not paid.\")\n",
    "            else:\n",
    "                print(\"Invalid choice for dinner.\")\n",
    "\n",
    "        else:\n",
    "            print(\"Invalid choice. Please try again.\")\n",
    "\n",
    "# Start the restaurant program\n",
    "famous_restaurant()\n"
   ]
  },
  {
   "cell_type": "code",
   "execution_count": null,
   "id": "a21e7137-8753-41a0-8ba8-8f9c0905f24d",
   "metadata": {},
   "outputs": [],
   "source": []
  }
 ],
 "metadata": {
  "kernelspec": {
   "display_name": "Python 3 (ipykernel)",
   "language": "python",
   "name": "python3"
  },
  "language_info": {
   "codemirror_mode": {
    "name": "ipython",
    "version": 3
   },
   "file_extension": ".py",
   "mimetype": "text/x-python",
   "name": "python",
   "nbconvert_exporter": "python",
   "pygments_lexer": "ipython3",
   "version": "3.12.4"
  }
 },
 "nbformat": 4,
 "nbformat_minor": 5
}
